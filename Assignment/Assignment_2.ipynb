{
 "cells": [
  {
   "cell_type": "markdown",
   "metadata": {},
   "source": [
    "Write a program that swaps the values of two variables."
   ]
  },
  {
   "cell_type": "code",
   "execution_count": 1,
   "metadata": {},
   "outputs": [
    {
     "name": "stdout",
     "output_type": "stream",
     "text": [
      "Initial values: a = 1, b = 2\n",
      "Swapped values: a = 2, b = 1\n"
     ]
    }
   ],
   "source": [
    "a = input()\n",
    "b = input()\n",
    "print(f\"Initial values: a = {a}, b = {b}\")\n",
    "a, b = b, a\n",
    "print(f\"Swapped values: a = {a}, b = {b}\")"
   ]
  },
  {
   "cell_type": "markdown",
   "metadata": {},
   "source": [
    "Write a program that calculates the area of a rectangle given its length and width."
   ]
  },
  {
   "cell_type": "code",
   "execution_count": 2,
   "metadata": {},
   "outputs": [
    {
     "name": "stdout",
     "output_type": "stream",
     "text": [
      "The area of the rectangle is: 20\n"
     ]
    }
   ],
   "source": [
    "length = int(input())\n",
    "width = int(input())\n",
    "area = length * width\n",
    "print(f\"The area of the rectangle is: {area}\")"
   ]
  },
  {
   "cell_type": "markdown",
   "metadata": {},
   "source": [
    "Write a program that converts temperature from Fahrenheit to Celsius."
   ]
  },
  {
   "cell_type": "code",
   "execution_count": 4,
   "metadata": {},
   "outputs": [
    {
     "name": "stdout",
     "output_type": "stream",
     "text": [
      "99.0 degrees Fahrenheit is equal to 37.22222222222222 degrees Celsius\n"
     ]
    }
   ],
   "source": [
    "def fahrenheit_to_celsius(fahrenheit):\n",
    "    celsius = (fahrenheit - 32) * 5/9\n",
    "    return celsius\n",
    "\n",
    "\n",
    "fahrenheit = float(input(\"Enter the temperature in Fahrenheit: \"))\n",
    "celsius = fahrenheit_to_celsius(fahrenheit)\n",
    "print(f\"{fahrenheit} degrees Fahrenheit is equal to {celsius} degrees Celsius\")"
   ]
  },
  {
   "cell_type": "markdown",
   "metadata": {},
   "source": [
    "Write a program that determines if a number is even or odd."
   ]
  },
  {
   "cell_type": "code",
   "execution_count": 2,
   "metadata": {},
   "outputs": [
    {
     "name": "stdout",
     "output_type": "stream",
     "text": [
      "5 is odd\n"
     ]
    }
   ],
   "source": [
    "number = int(input(\"Enter a number: \"))\n",
    "\n",
    "if number % 2 == 0:\n",
    "    print(f\"{number} is even\")\n",
    "else:\n",
    "    print(f\"{number} is odd\")"
   ]
  },
  {
   "cell_type": "markdown",
   "metadata": {},
   "source": [
    "Write a prog ram that finds the maximum of three numbers."
   ]
  },
  {
   "cell_type": "code",
   "execution_count": 3,
   "metadata": {},
   "outputs": [
    {
     "name": "stdout",
     "output_type": "stream",
     "text": [
      "The maximum of 4, 5, and 6 is: 6\n"
     ]
    }
   ],
   "source": [
    "num1 = int(input())\n",
    "num2 = int(input())\n",
    "num3 = int(input())\n",
    "\n",
    "max_number = max(num1, num2, num3)\n",
    "\n",
    "print(f\"The maximum of {num1}, {num2}, and {num3} is: {max_number}\")"
   ]
  },
  {
   "cell_type": "markdown",
   "metadata": {},
   "source": [
    "Write a program that determines if a year is a leap year or not."
   ]
  },
  {
   "cell_type": "code",
   "execution_count": 4,
   "metadata": {},
   "outputs": [
    {
     "name": "stdout",
     "output_type": "stream",
     "text": [
      "2020 is a leap year\n"
     ]
    }
   ],
   "source": [
    "year = int(input(\"Enter a year: \"))\n",
    "\n",
    "if year % 4 == 0:\n",
    "    if year % 100 == 0:\n",
    "        if year % 400 == 0:\n",
    "            print(f\"{year} is a leap year\")\n",
    "        else:\n",
    "            print(f\"{year} is not a leap year\")\n",
    "    else:\n",
    "        print(f\"{year} is a leap year\")\n",
    "else:\n",
    "    print(f\"{year} is not a leap year\")"
   ]
  },
  {
   "cell_type": "markdown",
   "metadata": {},
   "source": [
    "Write a program that determines if a number is positive, negative, or zero."
   ]
  },
  {
   "cell_type": "code",
   "execution_count": 5,
   "metadata": {},
   "outputs": [
    {
     "name": "stdout",
     "output_type": "stream",
     "text": [
      "502.0 is positive\n"
     ]
    }
   ],
   "source": [
    "number = float(input(\"Enter a number: \"))\n",
    "\n",
    "if number > 0:\n",
    "    print(f\"{number} is positive\")\n",
    "elif number < 0:\n",
    "    print(f\"{number} is negative\")\n",
    "else:\n",
    "    print(f\"{number} is zero\")"
   ]
  },
  {
   "cell_type": "markdown",
   "metadata": {},
   "source": [
    "Write a program that calculates the grade based on a given percentage."
   ]
  },
  {
   "cell_type": "code",
   "execution_count": 6,
   "metadata": {},
   "outputs": [
    {
     "name": "stdout",
     "output_type": "stream",
     "text": [
      "The grade is: F\n"
     ]
    }
   ],
   "source": [
    "percentage = float(input(\"Enter the percentage: \"))\n",
    "\n",
    "if percentage >= 90:\n",
    "    grade = 'A'\n",
    "elif percentage >= 80:\n",
    "    grade = 'B'\n",
    "elif percentage >= 70:\n",
    "    grade = 'C'\n",
    "elif percentage >= 60:\n",
    "    grade = 'D'\n",
    "else:\n",
    "    grade = 'F'\n",
    "\n",
    "\n",
    "print(f\"The grade is: {grade}\")"
   ]
  },
  {
   "cell_type": "code",
   "execution_count": null,
   "metadata": {},
   "outputs": [],
   "source": []
  }
 ],
 "metadata": {
  "kernelspec": {
   "display_name": "Python 3",
   "language": "python",
   "name": "python3"
  },
  "language_info": {
   "codemirror_mode": {
    "name": "ipython",
    "version": 3
   },
   "file_extension": ".py",
   "mimetype": "text/x-python",
   "name": "python",
   "nbconvert_exporter": "python",
   "pygments_lexer": "ipython3",
   "version": "3.10.8"
  }
 },
 "nbformat": 4,
 "nbformat_minor": 2
}
